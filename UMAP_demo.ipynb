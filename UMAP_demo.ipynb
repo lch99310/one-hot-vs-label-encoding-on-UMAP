{
 "cells": [
  {
   "cell_type": "code",
   "execution_count": 75,
   "id": "5cb8f245-c137-4216-98ab-0bb51e3bc942",
   "metadata": {},
   "outputs": [],
   "source": [
    "import pandas as pd\n",
    "import numpy as np\n",
    "import umap\n",
    "import matplotlib.pyplot as plt\n",
    "from sklearn.preprocessing import LabelEncoder\n",
    "import seaborn as sns"
   ]
  },
  {
   "cell_type": "markdown",
   "id": "df765a2f-e19e-4883-8759-83c61d8d3f22",
   "metadata": {},
   "source": [
    "# Data generation"
   ]
  },
  {
   "cell_type": "code",
   "execution_count": 76,
   "id": "465e286e-196e-4f1e-9e4e-b979cde2a104",
   "metadata": {},
   "outputs": [],
   "source": [
    "color = [\"white\",\"black\"]\n",
    "size = ['big', 'small']\n",
    "weight = ['heavy', 'light']\n",
    "\n",
    "data=pd.DataFrame({\"color\":[color[x] for x in np.random.randint(0,len(color),500)],\n",
    "                  \"size\":[size[x] for x in np.random.randint(0,len(size),500)],\n",
    "                  \"weight\":[weight[x] for x in np.random.randint(0,len(weight),500)]\n",
    "                  })"
   ]
  },
  {
   "cell_type": "code",
   "execution_count": 77,
   "id": "6d643009-10da-4ffa-9272-52d8494b1931",
   "metadata": {},
   "outputs": [
    {
     "data": {
      "text/html": [
       "<div>\n",
       "<style scoped>\n",
       "    .dataframe tbody tr th:only-of-type {\n",
       "        vertical-align: middle;\n",
       "    }\n",
       "\n",
       "    .dataframe tbody tr th {\n",
       "        vertical-align: top;\n",
       "    }\n",
       "\n",
       "    .dataframe thead th {\n",
       "        text-align: right;\n",
       "    }\n",
       "</style>\n",
       "<table border=\"1\" class=\"dataframe\">\n",
       "  <thead>\n",
       "    <tr style=\"text-align: right;\">\n",
       "      <th></th>\n",
       "      <th>color</th>\n",
       "      <th>size</th>\n",
       "      <th>weight</th>\n",
       "    </tr>\n",
       "  </thead>\n",
       "  <tbody>\n",
       "    <tr>\n",
       "      <th>0</th>\n",
       "      <td>black</td>\n",
       "      <td>small</td>\n",
       "      <td>heavy</td>\n",
       "    </tr>\n",
       "    <tr>\n",
       "      <th>1</th>\n",
       "      <td>white</td>\n",
       "      <td>big</td>\n",
       "      <td>light</td>\n",
       "    </tr>\n",
       "    <tr>\n",
       "      <th>2</th>\n",
       "      <td>black</td>\n",
       "      <td>small</td>\n",
       "      <td>light</td>\n",
       "    </tr>\n",
       "    <tr>\n",
       "      <th>3</th>\n",
       "      <td>black</td>\n",
       "      <td>big</td>\n",
       "      <td>light</td>\n",
       "    </tr>\n",
       "    <tr>\n",
       "      <th>4</th>\n",
       "      <td>white</td>\n",
       "      <td>small</td>\n",
       "      <td>heavy</td>\n",
       "    </tr>\n",
       "  </tbody>\n",
       "</table>\n",
       "</div>"
      ],
      "text/plain": [
       "   color   size weight\n",
       "0  black  small  heavy\n",
       "1  white    big  light\n",
       "2  black  small  light\n",
       "3  black    big  light\n",
       "4  white  small  heavy"
      ]
     },
     "execution_count": 77,
     "metadata": {},
     "output_type": "execute_result"
    }
   ],
   "source": [
    "data.head()"
   ]
  },
  {
   "cell_type": "markdown",
   "id": "37803877-2130-4564-ae6d-13ae85781456",
   "metadata": {},
   "source": [
    "# One feature"
   ]
  },
  {
   "cell_type": "code",
   "execution_count": 78,
   "id": "2090542a-521b-4072-9b66-51b5113fbf68",
   "metadata": {},
   "outputs": [],
   "source": [
    "data_1d = data.iloc[:, 0]"
   ]
  },
  {
   "cell_type": "code",
   "execution_count": 79,
   "id": "8d900915-03ca-4d66-af87-e0222715164c",
   "metadata": {},
   "outputs": [
    {
     "data": {
      "text/plain": [
       "0    black\n",
       "1    white\n",
       "2    black\n",
       "3    black\n",
       "4    white\n",
       "Name: color, dtype: object"
      ]
     },
     "execution_count": 79,
     "metadata": {},
     "output_type": "execute_result"
    }
   ],
   "source": [
    "data_1d.head()"
   ]
  },
  {
   "cell_type": "markdown",
   "id": "7f6a89fb-6b9a-404b-9bd0-4a61916e8f93",
   "metadata": {},
   "source": [
    "## One-hot encoding"
   ]
  },
  {
   "cell_type": "code",
   "execution_count": 80,
   "id": "821f9921-9f9d-4f5d-89a1-6fb141dbaa26",
   "metadata": {},
   "outputs": [],
   "source": [
    "data_1d = pd.concat([data_1d, pd.get_dummies(data_1d)], axis=1)\n"
   ]
  },
  {
   "cell_type": "code",
   "execution_count": 81,
   "id": "df459278-a7da-4573-a5f8-805821d567ab",
   "metadata": {},
   "outputs": [
    {
     "data": {
      "text/html": [
       "<div>\n",
       "<style scoped>\n",
       "    .dataframe tbody tr th:only-of-type {\n",
       "        vertical-align: middle;\n",
       "    }\n",
       "\n",
       "    .dataframe tbody tr th {\n",
       "        vertical-align: top;\n",
       "    }\n",
       "\n",
       "    .dataframe thead th {\n",
       "        text-align: right;\n",
       "    }\n",
       "</style>\n",
       "<table border=\"1\" class=\"dataframe\">\n",
       "  <thead>\n",
       "    <tr style=\"text-align: right;\">\n",
       "      <th></th>\n",
       "      <th>color</th>\n",
       "      <th>black</th>\n",
       "      <th>white</th>\n",
       "    </tr>\n",
       "  </thead>\n",
       "  <tbody>\n",
       "    <tr>\n",
       "      <th>0</th>\n",
       "      <td>black</td>\n",
       "      <td>1</td>\n",
       "      <td>0</td>\n",
       "    </tr>\n",
       "    <tr>\n",
       "      <th>1</th>\n",
       "      <td>white</td>\n",
       "      <td>0</td>\n",
       "      <td>1</td>\n",
       "    </tr>\n",
       "    <tr>\n",
       "      <th>2</th>\n",
       "      <td>black</td>\n",
       "      <td>1</td>\n",
       "      <td>0</td>\n",
       "    </tr>\n",
       "    <tr>\n",
       "      <th>3</th>\n",
       "      <td>black</td>\n",
       "      <td>1</td>\n",
       "      <td>0</td>\n",
       "    </tr>\n",
       "    <tr>\n",
       "      <th>4</th>\n",
       "      <td>white</td>\n",
       "      <td>0</td>\n",
       "      <td>1</td>\n",
       "    </tr>\n",
       "  </tbody>\n",
       "</table>\n",
       "</div>"
      ],
      "text/plain": [
       "   color  black  white\n",
       "0  black      1      0\n",
       "1  white      0      1\n",
       "2  black      1      0\n",
       "3  black      1      0\n",
       "4  white      0      1"
      ]
     },
     "execution_count": 81,
     "metadata": {},
     "output_type": "execute_result"
    }
   ],
   "source": [
    "data_1d.head()"
   ]
  },
  {
   "cell_type": "code",
   "execution_count": 82,
   "id": "d9b1ff6b-227a-42df-a741-47f18abd81d4",
   "metadata": {},
   "outputs": [],
   "source": [
    "reducer = umap.UMAP()"
   ]
  },
  {
   "cell_type": "code",
   "execution_count": 83,
   "id": "d477f949-2232-4958-ad34-4a8feacec743",
   "metadata": {},
   "outputs": [
    {
     "data": {
      "text/plain": [
       "(500, 2)"
      ]
     },
     "execution_count": 83,
     "metadata": {},
     "output_type": "execute_result"
    }
   ],
   "source": [
    "embedding = reducer.fit_transform(data_1d.iloc[:, 1:])\n",
    "embedding.shape"
   ]
  },
  {
   "cell_type": "code",
   "execution_count": 84,
   "id": "12dc57e5-b1a0-4e2b-a255-adb3f175f852",
   "metadata": {},
   "outputs": [],
   "source": [
    "data_1d['umap_X'] = embedding[:, 0]\n",
    "data_1d['umap_Y'] = embedding[:, 1]"
   ]
  },
  {
   "cell_type": "code",
   "execution_count": 85,
   "id": "a47da496-f8db-46dc-8b6a-f6310850072a",
   "metadata": {},
   "outputs": [
    {
     "data": {
      "text/plain": [
       "<AxesSubplot:xlabel='umap_X', ylabel='umap_Y'>"
      ]
     },
     "execution_count": 85,
     "metadata": {},
     "output_type": "execute_result"
    },
    {
     "data": {
      "image/png": "[encoded data removed]",
      "text/plain": [
       "<Figure size 640x480 with 1 Axes>"
      ]
     },
     "metadata": {},
     "output_type": "display_data"
    }
   ],
   "source": [
    "sns.scatterplot(\n",
    "    data=data_1d,\n",
    "    x='umap_X',\n",
    "    y='umap_Y', \n",
    "    hue='color')"
   ]
  },
  {
   "cell_type": "markdown",
   "id": "8d0b56cf-fb5f-4441-8a3b-e75178f6f0d0",
   "metadata": {},
   "source": [
    "## Label encoding"
   ]
  },
  {
   "cell_type": "code",
   "execution_count": 86,
   "id": "9d2ce8de-46b9-4b9f-ab93-f437069e4479",
   "metadata": {},
   "outputs": [],
   "source": [
    "labelencoder = LabelEncoder()"
   ]
  },
  {
   "cell_type": "code",
   "execution_count": 87,
   "id": "35ff527a-b753-4125-a739-ec6df9c9ba1f",
   "metadata": {},
   "outputs": [],
   "source": [
    "data_1d['color'] = labelencoder.fit_transform(data_1d['color'])"
   ]
  },
  {
   "cell_type": "code",
   "execution_count": 88,
   "id": "8e0ad6ff-7710-4118-bcf8-0abfda74cc12",
   "metadata": {},
   "outputs": [
    {
     "data": {
      "text/html": [
       "<div>\n",
       "<style scoped>\n",
       "    .dataframe tbody tr th:only-of-type {\n",
       "        vertical-align: middle;\n",
       "    }\n",
       "\n",
       "    .dataframe tbody tr th {\n",
       "        vertical-align: top;\n",
       "    }\n",
       "\n",
       "    .dataframe thead th {\n",
       "        text-align: right;\n",
       "    }\n",
       "</style>\n",
       "<table border=\"1\" class=\"dataframe\">\n",
       "  <thead>\n",
       "    <tr style=\"text-align: right;\">\n",
       "      <th></th>\n",
       "      <th>color</th>\n",
       "      <th>black</th>\n",
       "      <th>white</th>\n",
       "      <th>umap_X</th>\n",
       "      <th>umap_Y</th>\n",
       "    </tr>\n",
       "  </thead>\n",
       "  <tbody>\n",
       "    <tr>\n",
       "      <th>0</th>\n",
       "      <td>0</td>\n",
       "      <td>1</td>\n",
       "      <td>0</td>\n",
       "      <td>16.501265</td>\n",
       "      <td>13.777998</td>\n",
       "    </tr>\n",
       "    <tr>\n",
       "      <th>1</th>\n",
       "      <td>1</td>\n",
       "      <td>0</td>\n",
       "      <td>1</td>\n",
       "      <td>-3.274255</td>\n",
       "      <td>11.615689</td>\n",
       "    </tr>\n",
       "    <tr>\n",
       "      <th>2</th>\n",
       "      <td>0</td>\n",
       "      <td>1</td>\n",
       "      <td>0</td>\n",
       "      <td>17.391325</td>\n",
       "      <td>16.235727</td>\n",
       "    </tr>\n",
       "    <tr>\n",
       "      <th>3</th>\n",
       "      <td>0</td>\n",
       "      <td>1</td>\n",
       "      <td>0</td>\n",
       "      <td>16.475220</td>\n",
       "      <td>16.661209</td>\n",
       "    </tr>\n",
       "    <tr>\n",
       "      <th>4</th>\n",
       "      <td>1</td>\n",
       "      <td>0</td>\n",
       "      <td>1</td>\n",
       "      <td>-6.235471</td>\n",
       "      <td>11.027761</td>\n",
       "    </tr>\n",
       "  </tbody>\n",
       "</table>\n",
       "</div>"
      ],
      "text/plain": [
       "   color  black  white     umap_X     umap_Y\n",
       "0      0      1      0  16.501265  13.777998\n",
       "1      1      0      1  -3.274255  11.615689\n",
       "2      0      1      0  17.391325  16.235727\n",
       "3      0      1      0  16.475220  16.661209\n",
       "4      1      0      1  -6.235471  11.027761"
      ]
     },
     "execution_count": 88,
     "metadata": {},
     "output_type": "execute_result"
    }
   ],
   "source": [
    "data_1d.head()"
   ]
  },
  {
   "cell_type": "code",
   "execution_count": 89,
   "id": "8de6a544-0696-4d31-a845-99a045b30bb6",
   "metadata": {},
   "outputs": [
    {
     "data": {
      "text/plain": [
       "(500, 2)"
      ]
     },
     "execution_count": 89,
     "metadata": {},
     "output_type": "execute_result"
    }
   ],
   "source": [
    "embedding = reducer.fit_transform(data_1d.iloc[:,0].array.reshape(-1,1))\n",
    "embedding.shape"
   ]
  },
  {
   "cell_type": "code",
   "execution_count": 90,
   "id": "80cf4ab0-6771-441a-bee4-7412fecc7244",
   "metadata": {},
   "outputs": [],
   "source": [
    "data_1d['umap_X'] = embedding[:, 0]\n",
    "data_1d['umap_Y'] = embedding[:, 1]"
   ]
  },
  {
   "cell_type": "code",
   "execution_count": 91,
   "id": "c122bda9-0451-442c-81a7-6cc9bf2732e1",
   "metadata": {},
   "outputs": [
    {
     "data": {
      "text/plain": [
       "<AxesSubplot:xlabel='umap_X', ylabel='umap_Y'>"
      ]
     },
     "execution_count": 91,
     "metadata": {},
     "output_type": "execute_result"
    },
    {
     "data": {
      "image/png": "[encoded data removed]",
      "text/plain": [
       "<Figure size 640x480 with 1 Axes>"
      ]
     },
     "metadata": {},
     "output_type": "display_data"
    }
   ],
   "source": [
    "sns.scatterplot(\n",
    "    data=data_1d,\n",
    "    x='umap_X',\n",
    "    y='umap_Y', \n",
    "    hue='color')"
   ]
  },
  {
   "cell_type": "markdown",
   "id": "656780d9-b2ef-4481-a5b9-55699292af6a",
   "metadata": {},
   "source": [
    "# Two features"
   ]
  },
  {
   "cell_type": "code",
   "execution_count": 92,
   "id": "07dc7085-5682-4350-92d0-b3645f7f0db8",
   "metadata": {},
   "outputs": [],
   "source": [
    "data_2d = data.iloc[:, 0:2]"
   ]
  },
  {
   "cell_type": "code",
   "execution_count": 93,
   "id": "b117188b-f68a-49b4-9816-c62e467f9ee2",
   "metadata": {},
   "outputs": [
    {
     "data": {
      "text/html": [
       "<div>\n",
       "<style scoped>\n",
       "    .dataframe tbody tr th:only-of-type {\n",
       "        vertical-align: middle;\n",
       "    }\n",
       "\n",
       "    .dataframe tbody tr th {\n",
       "        vertical-align: top;\n",
       "    }\n",
       "\n",
       "    .dataframe thead th {\n",
       "        text-align: right;\n",
       "    }\n",
       "</style>\n",
       "<table border=\"1\" class=\"dataframe\">\n",
       "  <thead>\n",
       "    <tr style=\"text-align: right;\">\n",
       "      <th></th>\n",
       "      <th>color</th>\n",
       "      <th>size</th>\n",
       "    </tr>\n",
       "  </thead>\n",
       "  <tbody>\n",
       "    <tr>\n",
       "      <th>0</th>\n",
       "      <td>black</td>\n",
       "      <td>small</td>\n",
       "    </tr>\n",
       "    <tr>\n",
       "      <th>1</th>\n",
       "      <td>white</td>\n",
       "      <td>big</td>\n",
       "    </tr>\n",
       "    <tr>\n",
       "      <th>2</th>\n",
       "      <td>black</td>\n",
       "      <td>small</td>\n",
       "    </tr>\n",
       "    <tr>\n",
       "      <th>3</th>\n",
       "      <td>black</td>\n",
       "      <td>big</td>\n",
       "    </tr>\n",
       "    <tr>\n",
       "      <th>4</th>\n",
       "      <td>white</td>\n",
       "      <td>small</td>\n",
       "    </tr>\n",
       "  </tbody>\n",
       "</table>\n",
       "</div>"
      ],
      "text/plain": [
       "   color   size\n",
       "0  black  small\n",
       "1  white    big\n",
       "2  black  small\n",
       "3  black    big\n",
       "4  white  small"
      ]
     },
     "execution_count": 93,
     "metadata": {},
     "output_type": "execute_result"
    }
   ],
   "source": [
    "data_2d.head()"
   ]
  },
  {
   "cell_type": "markdown",
   "id": "4fabb43c-9a2e-487f-b269-582504b3fa13",
   "metadata": {},
   "source": [
    "## One-hot encoding"
   ]
  },
  {
   "cell_type": "code",
   "execution_count": 94,
   "id": "8cf65a50-8e0f-41af-92c0-7b3e773fb3cd",
   "metadata": {},
   "outputs": [],
   "source": [
    "data_2d = pd.concat([data_2d, pd.get_dummies(data_2d)], axis=1)"
   ]
  },
  {
   "cell_type": "code",
   "execution_count": 95,
   "id": "a824168c-2abc-4a7e-92ec-7eaf734ca7d0",
   "metadata": {},
   "outputs": [
    {
     "data": {
      "text/html": [
       "<div>\n",
       "<style scoped>\n",
       "    .dataframe tbody tr th:only-of-type {\n",
       "        vertical-align: middle;\n",
       "    }\n",
       "\n",
       "    .dataframe tbody tr th {\n",
       "        vertical-align: top;\n",
       "    }\n",
       "\n",
       "    .dataframe thead th {\n",
       "        text-align: right;\n",
       "    }\n",
       "</style>\n",
       "<table border=\"1\" class=\"dataframe\">\n",
       "  <thead>\n",
       "    <tr style=\"text-align: right;\">\n",
       "      <th></th>\n",
       "      <th>color</th>\n",
       "      <th>size</th>\n",
       "      <th>color_black</th>\n",
       "      <th>color_white</th>\n",
       "      <th>size_big</th>\n",
       "      <th>size_small</th>\n",
       "    </tr>\n",
       "  </thead>\n",
       "  <tbody>\n",
       "    <tr>\n",
       "      <th>0</th>\n",
       "      <td>black</td>\n",
       "      <td>small</td>\n",
       "      <td>1</td>\n",
       "      <td>0</td>\n",
       "      <td>0</td>\n",
       "      <td>1</td>\n",
       "    </tr>\n",
       "    <tr>\n",
       "      <th>1</th>\n",
       "      <td>white</td>\n",
       "      <td>big</td>\n",
       "      <td>0</td>\n",
       "      <td>1</td>\n",
       "      <td>1</td>\n",
       "      <td>0</td>\n",
       "    </tr>\n",
       "    <tr>\n",
       "      <th>2</th>\n",
       "      <td>black</td>\n",
       "      <td>small</td>\n",
       "      <td>1</td>\n",
       "      <td>0</td>\n",
       "      <td>0</td>\n",
       "      <td>1</td>\n",
       "    </tr>\n",
       "    <tr>\n",
       "      <th>3</th>\n",
       "      <td>black</td>\n",
       "      <td>big</td>\n",
       "      <td>1</td>\n",
       "      <td>0</td>\n",
       "      <td>1</td>\n",
       "      <td>0</td>\n",
       "    </tr>\n",
       "    <tr>\n",
       "      <th>4</th>\n",
       "      <td>white</td>\n",
       "      <td>small</td>\n",
       "      <td>0</td>\n",
       "      <td>1</td>\n",
       "      <td>0</td>\n",
       "      <td>1</td>\n",
       "    </tr>\n",
       "  </tbody>\n",
       "</table>\n",
       "</div>"
      ],
      "text/plain": [
       "   color   size  color_black  color_white  size_big  size_small\n",
       "0  black  small            1            0         0           1\n",
       "1  white    big            0            1         1           0\n",
       "2  black  small            1            0         0           1\n",
       "3  black    big            1            0         1           0\n",
       "4  white  small            0            1         0           1"
      ]
     },
     "execution_count": 95,
     "metadata": {},
     "output_type": "execute_result"
    }
   ],
   "source": [
    "data_2d.head()"
   ]
  },
  {
   "cell_type": "code",
   "execution_count": 96,
   "id": "7d3fba79-e123-4f9d-9fb8-ea7f5857d29a",
   "metadata": {},
   "outputs": [
    {
     "data": {
      "text/plain": [
       "(500, 2)"
      ]
     },
     "execution_count": 96,
     "metadata": {},
     "output_type": "execute_result"
    }
   ],
   "source": [
    "embedding = reducer.fit_transform(data_2d.iloc[:, 2:])\n",
    "embedding.shape"
   ]
  },
  {
   "cell_type": "code",
   "execution_count": 97,
   "id": "dfbf6ef8-3b43-4cd9-8844-9ca794602801",
   "metadata": {},
   "outputs": [],
   "source": [
    "data_2d['umap_X'] = embedding[:, 0]\n",
    "data_2d['umap_Y'] = embedding[:, 1]"
   ]
  },
  {
   "cell_type": "code",
   "execution_count": 98,
   "id": "efc1a8c4-0aba-4ae7-bc86-76a3fd44026b",
   "metadata": {},
   "outputs": [
    {
     "data": {
      "text/plain": [
       "<AxesSubplot:xlabel='umap_X', ylabel='umap_Y'>"
      ]
     },
     "execution_count": 98,
     "metadata": {},
     "output_type": "execute_result"
    },
    {
     "data": {
      "image/png": "[encoded data removed]",
      "text/plain": [
       "<Figure size 640x480 with 1 Axes>"
      ]
     },
     "metadata": {},
     "output_type": "display_data"
    }
   ],
   "source": [
    "sns.scatterplot(\n",
    "    data=data_2d,\n",
    "    x='umap_X',\n",
    "    y='umap_Y', \n",
    "    hue='color',\n",
    "    size='size')"
   ]
  },
  {
   "cell_type": "markdown",
   "id": "5b75248a-37a5-49f8-9851-e384c397dff9",
   "metadata": {},
   "source": [
    "## Label encoding"
   ]
  },
  {
   "cell_type": "code",
   "execution_count": 99,
   "id": "a1a83893-0095-4166-b572-20f4e7f17c56",
   "metadata": {},
   "outputs": [],
   "source": [
    "data_2d['color'] = labelencoder.fit_transform(data_2d['color'])\n",
    "data_2d['size'] = labelencoder.fit_transform(data_2d['size'])"
   ]
  },
  {
   "cell_type": "code",
   "execution_count": 100,
   "id": "589068a2-6c86-4f84-8320-14adbc1931bf",
   "metadata": {},
   "outputs": [
    {
     "data": {
      "text/html": [
       "<div>\n",
       "<style scoped>\n",
       "    .dataframe tbody tr th:only-of-type {\n",
       "        vertical-align: middle;\n",
       "    }\n",
       "\n",
       "    .dataframe tbody tr th {\n",
       "        vertical-align: top;\n",
       "    }\n",
       "\n",
       "    .dataframe thead th {\n",
       "        text-align: right;\n",
       "    }\n",
       "</style>\n",
       "<table border=\"1\" class=\"dataframe\">\n",
       "  <thead>\n",
       "    <tr style=\"text-align: right;\">\n",
       "      <th></th>\n",
       "      <th>color</th>\n",
       "      <th>size</th>\n",
       "      <th>color_black</th>\n",
       "      <th>color_white</th>\n",
       "      <th>size_big</th>\n",
       "      <th>size_small</th>\n",
       "      <th>umap_X</th>\n",
       "      <th>umap_Y</th>\n",
       "    </tr>\n",
       "  </thead>\n",
       "  <tbody>\n",
       "    <tr>\n",
       "      <th>0</th>\n",
       "      <td>0</td>\n",
       "      <td>1</td>\n",
       "      <td>1</td>\n",
       "      <td>0</td>\n",
       "      <td>0</td>\n",
       "      <td>1</td>\n",
       "      <td>14.349958</td>\n",
       "      <td>15.003778</td>\n",
       "    </tr>\n",
       "    <tr>\n",
       "      <th>1</th>\n",
       "      <td>1</td>\n",
       "      <td>0</td>\n",
       "      <td>0</td>\n",
       "      <td>1</td>\n",
       "      <td>1</td>\n",
       "      <td>0</td>\n",
       "      <td>-1.297813</td>\n",
       "      <td>28.818243</td>\n",
       "    </tr>\n",
       "    <tr>\n",
       "      <th>2</th>\n",
       "      <td>0</td>\n",
       "      <td>1</td>\n",
       "      <td>1</td>\n",
       "      <td>0</td>\n",
       "      <td>0</td>\n",
       "      <td>1</td>\n",
       "      <td>14.256951</td>\n",
       "      <td>14.149856</td>\n",
       "    </tr>\n",
       "    <tr>\n",
       "      <th>3</th>\n",
       "      <td>0</td>\n",
       "      <td>0</td>\n",
       "      <td>1</td>\n",
       "      <td>0</td>\n",
       "      <td>1</td>\n",
       "      <td>0</td>\n",
       "      <td>-11.753061</td>\n",
       "      <td>7.985147</td>\n",
       "    </tr>\n",
       "    <tr>\n",
       "      <th>4</th>\n",
       "      <td>1</td>\n",
       "      <td>1</td>\n",
       "      <td>0</td>\n",
       "      <td>1</td>\n",
       "      <td>0</td>\n",
       "      <td>1</td>\n",
       "      <td>9.331128</td>\n",
       "      <td>-7.658687</td>\n",
       "    </tr>\n",
       "  </tbody>\n",
       "</table>\n",
       "</div>"
      ],
      "text/plain": [
       "   color  size  color_black  color_white  size_big  size_small     umap_X  \\\n",
       "0      0     1            1            0         0           1  14.349958   \n",
       "1      1     0            0            1         1           0  -1.297813   \n",
       "2      0     1            1            0         0           1  14.256951   \n",
       "3      0     0            1            0         1           0 -11.753061   \n",
       "4      1     1            0            1         0           1   9.331128   \n",
       "\n",
       "      umap_Y  \n",
       "0  15.003778  \n",
       "1  28.818243  \n",
       "2  14.149856  \n",
       "3   7.985147  \n",
       "4  -7.658687  "
      ]
     },
     "execution_count": 100,
     "metadata": {},
     "output_type": "execute_result"
    }
   ],
   "source": [
    "data_2d.head()"
   ]
  },
  {
   "cell_type": "code",
   "execution_count": 101,
   "id": "28c0e418-8362-4a20-a9f2-9e7744df0f9f",
   "metadata": {},
   "outputs": [
    {
     "data": {
      "text/plain": [
       "(500, 2)"
      ]
     },
     "execution_count": 101,
     "metadata": {},
     "output_type": "execute_result"
    }
   ],
   "source": [
    "embedding = reducer.fit_transform(data_2d.iloc[:,0:2])\n",
    "embedding.shape"
   ]
  },
  {
   "cell_type": "code",
   "execution_count": 102,
   "id": "30c0cec8-6358-4e24-b226-c381ace73683",
   "metadata": {},
   "outputs": [],
   "source": [
    "data_2d['umap_X'] = embedding[:, 0]\n",
    "data_2d['umap_Y'] = embedding[:, 1]"
   ]
  },
  {
   "cell_type": "code",
   "execution_count": 103,
   "id": "00ddcb67-d608-4ef1-bd55-c93171f8a543",
   "metadata": {},
   "outputs": [
    {
     "data": {
      "text/plain": [
       "<AxesSubplot:xlabel='umap_X', ylabel='umap_Y'>"
      ]
     },
     "execution_count": 103,
     "metadata": {},
     "output_type": "execute_result"
    },
    {
     "data": {
      "image/png": "[encoded data removed]",
      "text/plain": [
       "<Figure size 640x480 with 1 Axes>"
      ]
     },
     "metadata": {},
     "output_type": "display_data"
    }
   ],
   "source": [
    "sns.scatterplot(\n",
    "    data=data_2d,\n",
    "    x='umap_X',\n",
    "    y='umap_Y', \n",
    "    hue='color',\n",
    "    size='size')"
   ]
  },
  {
   "cell_type": "markdown",
   "id": "7e23aed9-478d-4b1c-993b-cf384e2495b1",
   "metadata": {},
   "source": [
    "# Three features"
   ]
  },
  {
   "cell_type": "code",
   "execution_count": 104,
   "id": "db166409-4c48-4bb1-92ba-a35c72c30013",
   "metadata": {},
   "outputs": [],
   "source": [
    "data_3d = data"
   ]
  },
  {
   "cell_type": "code",
   "execution_count": 105,
   "id": "4b362060-5e30-4095-9269-0bd7372431b2",
   "metadata": {
    "tags": []
   },
   "outputs": [
    {
     "name": "stdout",
     "output_type": "stream",
     "text": [
      "<class 'pandas.core.frame.DataFrame'>\n",
      "RangeIndex: 500 entries, 0 to 499\n",
      "Data columns (total 3 columns):\n",
      " #   Column  Non-Null Count  Dtype \n",
      "---  ------  --------------  ----- \n",
      " 0   color   500 non-null    object\n",
      " 1   size    500 non-null    object\n",
      " 2   weight  500 non-null    object\n",
      "dtypes: object(3)\n",
      "memory usage: 11.8+ KB\n"
     ]
    }
   ],
   "source": [
    "data_3d.head()"
   ]
  },
  {
   "cell_type": "markdown",
   "id": "967973d3-3beb-4465-a7f0-d762da5cc9a7",
   "metadata": {},
   "source": [
    "## One-hot encoding"
   ]
  },
  {
   "cell_type": "code",
   "execution_count": 106,
   "id": "0ace4444-6617-4a4c-a182-3befe551ac0f",
   "metadata": {},
   "outputs": [],
   "source": [
    "data_3d = pd.concat([data_3d, pd.get_dummies(data_3d)], axis=1)"
   ]
  },
  {
   "cell_type": "code",
   "execution_count": 107,
   "id": "31e6188c-0934-4f8e-a4ed-80fad1d04a40",
   "metadata": {},
   "outputs": [
    {
     "data": {
      "text/html": [
       "<div>\n",
       "<style scoped>\n",
       "    .dataframe tbody tr th:only-of-type {\n",
       "        vertical-align: middle;\n",
       "    }\n",
       "\n",
       "    .dataframe tbody tr th {\n",
       "        vertical-align: top;\n",
       "    }\n",
       "\n",
       "    .dataframe thead th {\n",
       "        text-align: right;\n",
       "    }\n",
       "</style>\n",
       "<table border=\"1\" class=\"dataframe\">\n",
       "  <thead>\n",
       "    <tr style=\"text-align: right;\">\n",
       "      <th></th>\n",
       "      <th>color</th>\n",
       "      <th>size</th>\n",
       "      <th>weight</th>\n",
       "      <th>color_black</th>\n",
       "      <th>color_white</th>\n",
       "      <th>size_big</th>\n",
       "      <th>size_small</th>\n",
       "      <th>weight_heavy</th>\n",
       "      <th>weight_light</th>\n",
       "    </tr>\n",
       "  </thead>\n",
       "  <tbody>\n",
       "    <tr>\n",
       "      <th>0</th>\n",
       "      <td>black</td>\n",
       "      <td>small</td>\n",
       "      <td>heavy</td>\n",
       "      <td>1</td>\n",
       "      <td>0</td>\n",
       "      <td>0</td>\n",
       "      <td>1</td>\n",
       "      <td>1</td>\n",
       "      <td>0</td>\n",
       "    </tr>\n",
       "    <tr>\n",
       "      <th>1</th>\n",
       "      <td>white</td>\n",
       "      <td>big</td>\n",
       "      <td>light</td>\n",
       "      <td>0</td>\n",
       "      <td>1</td>\n",
       "      <td>1</td>\n",
       "      <td>0</td>\n",
       "      <td>0</td>\n",
       "      <td>1</td>\n",
       "    </tr>\n",
       "    <tr>\n",
       "      <th>2</th>\n",
       "      <td>black</td>\n",
       "      <td>small</td>\n",
       "      <td>light</td>\n",
       "      <td>1</td>\n",
       "      <td>0</td>\n",
       "      <td>0</td>\n",
       "      <td>1</td>\n",
       "      <td>0</td>\n",
       "      <td>1</td>\n",
       "    </tr>\n",
       "    <tr>\n",
       "      <th>3</th>\n",
       "      <td>black</td>\n",
       "      <td>big</td>\n",
       "      <td>light</td>\n",
       "      <td>1</td>\n",
       "      <td>0</td>\n",
       "      <td>1</td>\n",
       "      <td>0</td>\n",
       "      <td>0</td>\n",
       "      <td>1</td>\n",
       "    </tr>\n",
       "    <tr>\n",
       "      <th>4</th>\n",
       "      <td>white</td>\n",
       "      <td>small</td>\n",
       "      <td>heavy</td>\n",
       "      <td>0</td>\n",
       "      <td>1</td>\n",
       "      <td>0</td>\n",
       "      <td>1</td>\n",
       "      <td>1</td>\n",
       "      <td>0</td>\n",
       "    </tr>\n",
       "  </tbody>\n",
       "</table>\n",
       "</div>"
      ],
      "text/plain": [
       "   color   size weight  color_black  color_white  size_big  size_small  \\\n",
       "0  black  small  heavy            1            0         0           1   \n",
       "1  white    big  light            0            1         1           0   \n",
       "2  black  small  light            1            0         0           1   \n",
       "3  black    big  light            1            0         1           0   \n",
       "4  white  small  heavy            0            1         0           1   \n",
       "\n",
       "   weight_heavy  weight_light  \n",
       "0             1             0  \n",
       "1             0             1  \n",
       "2             0             1  \n",
       "3             0             1  \n",
       "4             1             0  "
      ]
     },
     "execution_count": 107,
     "metadata": {},
     "output_type": "execute_result"
    }
   ],
   "source": [
    "data_3d.head()"
   ]
  },
  {
   "cell_type": "code",
   "execution_count": 108,
   "id": "8a7b3f76-52cf-4372-b951-dc4036c17aac",
   "metadata": {},
   "outputs": [
    {
     "data": {
      "text/plain": [
       "(500, 2)"
      ]
     },
     "execution_count": 108,
     "metadata": {},
     "output_type": "execute_result"
    }
   ],
   "source": [
    "embedding = reducer.fit_transform(data_3d.iloc[:, 3:])\n",
    "embedding.shape"
   ]
  },
  {
   "cell_type": "code",
   "execution_count": 109,
   "id": "d412eb2c-b605-44a2-9baf-d593e1a3e7e5",
   "metadata": {},
   "outputs": [],
   "source": [
    "data_3d['umap_X'] = embedding[:, 0]\n",
    "data_3d['umap_Y'] = embedding[:, 1]"
   ]
  },
  {
   "cell_type": "code",
   "execution_count": 110,
   "id": "4bb27044-7afa-4a4e-a4f2-808282ec031c",
   "metadata": {},
   "outputs": [
    {
     "data": {
      "text/plain": [
       "<AxesSubplot:xlabel='umap_X', ylabel='umap_Y'>"
      ]
     },
     "execution_count": 110,
     "metadata": {},
     "output_type": "execute_result"
    },
    {
     "data": {
      "image/png": "[encoded data removed]",
      "text/plain": [
       "<Figure size 640x480 with 1 Axes>"
      ]
     },
     "metadata": {},
     "output_type": "display_data"
    }
   ],
   "source": [
    "sns.scatterplot(\n",
    "    data=data_3d,\n",
    "    x='umap_X',\n",
    "    y='umap_Y', \n",
    "    hue='color',\n",
    "    size='size',\n",
    "    style='weight')"
   ]
  },
  {
   "cell_type": "markdown",
   "id": "4ea54151-b18d-421c-bb41-3bcb68be6f66",
   "metadata": {
    "tags": []
   },
   "source": [
    "## Label encoding"
   ]
  },
  {
   "cell_type": "code",
   "execution_count": 111,
   "id": "b71903d3-abb1-4bc4-967e-324c6bca3c0a",
   "metadata": {},
   "outputs": [],
   "source": [
    "data_3d['color'] = labelencoder.fit_transform(data_3d['color'])\n",
    "data_3d['size'] = labelencoder.fit_transform(data_3d['size'])\n",
    "data_3d['weight'] = labelencoder.fit_transform(data_3d['weight'])"
   ]
  },
  {
   "cell_type": "code",
   "execution_count": 112,
   "id": "4d490848-efe4-43aa-ac67-703acc0319b2",
   "metadata": {},
   "outputs": [
    {
     "data": {
      "text/html": [
       "<div>\n",
       "<style scoped>\n",
       "    .dataframe tbody tr th:only-of-type {\n",
       "        vertical-align: middle;\n",
       "    }\n",
       "\n",
       "    .dataframe tbody tr th {\n",
       "        vertical-align: top;\n",
       "    }\n",
       "\n",
       "    .dataframe thead th {\n",
       "        text-align: right;\n",
       "    }\n",
       "</style>\n",
       "<table border=\"1\" class=\"dataframe\">\n",
       "  <thead>\n",
       "    <tr style=\"text-align: right;\">\n",
       "      <th></th>\n",
       "      <th>color</th>\n",
       "      <th>size</th>\n",
       "      <th>weight</th>\n",
       "      <th>color_black</th>\n",
       "      <th>color_white</th>\n",
       "      <th>size_big</th>\n",
       "      <th>size_small</th>\n",
       "      <th>weight_heavy</th>\n",
       "      <th>weight_light</th>\n",
       "      <th>umap_X</th>\n",
       "      <th>umap_Y</th>\n",
       "    </tr>\n",
       "  </thead>\n",
       "  <tbody>\n",
       "    <tr>\n",
       "      <th>0</th>\n",
       "      <td>0</td>\n",
       "      <td>1</td>\n",
       "      <td>0</td>\n",
       "      <td>1</td>\n",
       "      <td>0</td>\n",
       "      <td>0</td>\n",
       "      <td>1</td>\n",
       "      <td>1</td>\n",
       "      <td>0</td>\n",
       "      <td>11.435803</td>\n",
       "      <td>7.301851</td>\n",
       "    </tr>\n",
       "    <tr>\n",
       "      <th>1</th>\n",
       "      <td>1</td>\n",
       "      <td>0</td>\n",
       "      <td>1</td>\n",
       "      <td>0</td>\n",
       "      <td>1</td>\n",
       "      <td>1</td>\n",
       "      <td>0</td>\n",
       "      <td>0</td>\n",
       "      <td>1</td>\n",
       "      <td>1.635061</td>\n",
       "      <td>0.205700</td>\n",
       "    </tr>\n",
       "    <tr>\n",
       "      <th>2</th>\n",
       "      <td>0</td>\n",
       "      <td>1</td>\n",
       "      <td>1</td>\n",
       "      <td>1</td>\n",
       "      <td>0</td>\n",
       "      <td>0</td>\n",
       "      <td>1</td>\n",
       "      <td>0</td>\n",
       "      <td>1</td>\n",
       "      <td>-14.733028</td>\n",
       "      <td>10.398211</td>\n",
       "    </tr>\n",
       "    <tr>\n",
       "      <th>3</th>\n",
       "      <td>0</td>\n",
       "      <td>0</td>\n",
       "      <td>1</td>\n",
       "      <td>1</td>\n",
       "      <td>0</td>\n",
       "      <td>1</td>\n",
       "      <td>0</td>\n",
       "      <td>0</td>\n",
       "      <td>1</td>\n",
       "      <td>-12.941609</td>\n",
       "      <td>-4.897605</td>\n",
       "    </tr>\n",
       "    <tr>\n",
       "      <th>4</th>\n",
       "      <td>1</td>\n",
       "      <td>1</td>\n",
       "      <td>0</td>\n",
       "      <td>0</td>\n",
       "      <td>1</td>\n",
       "      <td>0</td>\n",
       "      <td>1</td>\n",
       "      <td>1</td>\n",
       "      <td>0</td>\n",
       "      <td>20.464855</td>\n",
       "      <td>20.404085</td>\n",
       "    </tr>\n",
       "  </tbody>\n",
       "</table>\n",
       "</div>"
      ],
      "text/plain": [
       "   color  size  weight  color_black  color_white  size_big  size_small  \\\n",
       "0      0     1       0            1            0         0           1   \n",
       "1      1     0       1            0            1         1           0   \n",
       "2      0     1       1            1            0         0           1   \n",
       "3      0     0       1            1            0         1           0   \n",
       "4      1     1       0            0            1         0           1   \n",
       "\n",
       "   weight_heavy  weight_light     umap_X     umap_Y  \n",
       "0             1             0  11.435803   7.301851  \n",
       "1             0             1   1.635061   0.205700  \n",
       "2             0             1 -14.733028  10.398211  \n",
       "3             0             1 -12.941609  -4.897605  \n",
       "4             1             0  20.464855  20.404085  "
      ]
     },
     "execution_count": 112,
     "metadata": {},
     "output_type": "execute_result"
    }
   ],
   "source": [
    "data_3d.head()"
   ]
  },
  {
   "cell_type": "code",
   "execution_count": 113,
   "id": "75d95a1c-39c0-4c48-b010-6b68f3cc3f6d",
   "metadata": {
    "jupyter": {
     "source_hidden": true
    },
    "tags": []
   },
   "outputs": [
    {
     "data": {
      "text/plain": [
       "(500, 2)"
      ]
     },
     "execution_count": 113,
     "metadata": {},
     "output_type": "execute_result"
    }
   ],
   "source": [
    "embedding = reducer.fit_transform(data_3d.iloc[:,0:3])\n",
    "embedding.shape"
   ]
  },
  {
   "cell_type": "code",
   "execution_count": 114,
   "id": "4b457a30-9816-4d7d-8ed6-abfc1a85f817",
   "metadata": {},
   "outputs": [],
   "source": [
    "data_3d['umap_X'] = embedding[:, 0]\n",
    "data_3d['umap_Y'] = embedding[:, 1]"
   ]
  },
  {
   "cell_type": "code",
   "execution_count": 115,
   "id": "020e2736-c630-4e65-904b-ff02d2e6a10b",
   "metadata": {},
   "outputs": [
    {
     "data": {
      "text/plain": [
       "<AxesSubplot:xlabel='umap_X', ylabel='umap_Y'>"
      ]
     },
     "execution_count": 115,
     "metadata": {},
     "output_type": "execute_result"
    },
    {
     "data": {
      "image/png": "[encoded data removed]",
      "text/plain": [
       "<Figure size 640x480 with 1 Axes>"
      ]
     },
     "metadata": {},
     "output_type": "display_data"
    }
   ],
   "source": [
    "sns.scatterplot(\n",
    "    data=data_3d,\n",
    "    x='umap_X',\n",
    "    y='umap_Y', \n",
    "    hue='color',\n",
    "    size='size',\n",
    "    style='weight')"
   ]
  }
 ],
 "metadata": {
  "kernelspec": {
   "display_name": "Python 3 (ipykernel)",
   "language": "python",
   "name": "python3"
  },
  "language_info": {
   "codemirror_mode": {
    "name": "ipython",
    "version": 3
   },
   "file_extension": ".py",
   "mimetype": "text/x-python",
   "name": "python",
   "nbconvert_exporter": "python",
   "pygments_lexer": "ipython3",
   "version": "3.10.8"
  }
 },
 "nbformat": 4,
 "nbformat_minor": 5
}
